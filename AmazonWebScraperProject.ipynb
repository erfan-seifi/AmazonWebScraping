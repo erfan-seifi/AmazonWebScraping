{
 "cells": [
  {
   "cell_type": "code",
   "execution_count": 6,
   "metadata": {},
   "outputs": [],
   "source": [
    "import os\n",
    "# import libraries \n",
    "\n",
    "from bs4 import BeautifulSoup\n",
    "import requests\n",
    "import time\n",
    "import datetime\n",
    "\n",
    "import smtplib\n",
    "\n",
    "# Define the directory path you want to check\n",
    "# Get the path to the desktop directory on macOS\n",
    "user_directory = os.path.join(os.path.expanduser('~'), '')\n",
    "os.chdir(user_directory)"
   ]
  },
  {
   "cell_type": "code",
   "execution_count": 90,
   "metadata": {},
   "outputs": [
    {
     "name": "stdout",
     "output_type": "stream",
     "text": [
      "ThisWorx Car Vacuum Cleaner - Portable Handheld Mini Vacuum Cleaner W/ 16ft Cord, Bag, & Attachments - Small Vacuum for Car, RV, Boats, Travel - Car Accessories\n",
      "37.99\n"
     ]
    }
   ],
   "source": [
    "import requests\n",
    "from bs4 import BeautifulSoup\n",
    "\n",
    "# Connect to Website and pull in data\n",
    "URL = 'https://www.amazon.com/Handheld-Car-Mini-Vacuum-Cleaner/dp/B06ZY896ZM/ref=sr_1_1_sspa?crid=G08KJ26I3E90&dib=eyJ2IjoiMSJ9.QYKDy_RFOZne1JQ2yN-MHraydfzAdAIDofa4AJJM2NQqxyjbrngDia6FoWcKD-hhGWlZMTTakkkEtiB-YRZGUxfraJFxMXzLASLYyTmpk76HPj5_c1OVI4pXzBR34cRrv2WQP8XdYuBb2ZUyYaddUDUdHh2xU4fjuF3eV_1gfXIS4rviLmlYVPncXpSQnfChoQ4cuzj15o6hb2r-xxhRLn7V-RQmXxjZQfZAfkcs5UxeT7h_-A43u918HymJBvWEb6BS3Ldul7bTUJQisWClwZCyfDeDzu-Y2uj-6G7jNXc.Xn0DCeJFEuC68a6TS8ufuFBWwt7PbYbC_w8cqY-mVJk&dib_tag=se&keywords=car+vacuum+cleaner&qid=1720819795&s=automotive&sprefix=%2Cautomotive%2C1282&sr=1-1-spons&sp_csd=d2lkZ2V0TmFtZT1zcF9hdGY&psc=1&smid=A3ALWHH9BSMOXV'\n",
    "headers = {\n",
    "    \"User-Agent\": \"Mozilla/5.0 (Windows NT 10.0; Win64; x64) AppleWebKit/537.36 (KHTML, like Gecko) Chrome/78.0.3904.108 Safari/537.36\", \n",
    "    \"Accept-Encoding\": \"gzip, deflate\", \n",
    "    \"Accept\": \"text/html,application/xhtml+xml,application/xml;q=0.9,*/*;q=0.8\", \n",
    "    \"DNT\": \"1\",\n",
    "    \"Connection\": \"close\", \n",
    "    \"Upgrade-Insecure-Requests\": \"1\"\n",
    "}\n",
    "\n",
    "page = requests.get(URL, headers=headers)\n",
    "\n",
    "soup = BeautifulSoup(page.content, \"html.parser\")\n",
    "\n",
    "title = soup.find(id='productTitle').get_text().strip()\n",
    "\n",
    "# Try multiple price selectors\n",
    "price_whole = soup.find('span', {'class': 'a-price-whole'})\n",
    "price_fraction = soup.find('span', {'class': 'a-price-fraction'})\n",
    "\n",
    "if price_whole and price_fraction:\n",
    "    price = f\"{price_whole.get_text().strip()}{price_fraction.get_text().strip()}\"\n",
    "else:\n",
    "    price = \"Price not found\"\n",
    "\n",
    "print(title)\n",
    "print(price)\n"
   ]
  },
  {
   "cell_type": "code",
   "execution_count": 91,
   "metadata": {},
   "outputs": [
    {
     "name": "stdout",
     "output_type": "stream",
     "text": [
      "2024-07-12\n"
     ]
    }
   ],
   "source": [
    "# Create a Timestamp for your output to track when data was collected\n",
    "\n",
    "import datetime\n",
    "\n",
    "today = datetime.date.today()\n",
    "\n",
    "print(today)"
   ]
  },
  {
   "cell_type": "code",
   "execution_count": 94,
   "metadata": {},
   "outputs": [],
   "source": [
    "# Create CSV and write headers and data into the file\n",
    "\n",
    "import csv \n",
    "\n",
    "header = ['Title', 'Price', 'Date']\n",
    "data = [title, price, today]\n",
    "\n",
    "\n",
    "with open('./Downloads/AmazonWebScraperDataset.csv', 'w', newline='', encoding='UTF8') as f:\n",
    "    writer = csv.writer(f)\n",
    "    writer.writerow(header)\n",
    "    writer.writerow(data)"
   ]
  },
  {
   "cell_type": "code",
   "execution_count": 95,
   "metadata": {},
   "outputs": [
    {
     "name": "stdout",
     "output_type": "stream",
     "text": [
      "                                               Title  Price        Date\n",
      "0  ThisWorx Car Vacuum Cleaner - Portable Handhel...  37.99  2024-07-12\n"
     ]
    }
   ],
   "source": [
    "import pandas as pd\n",
    "\n",
    "df = pd.read_csv(r'./Downloads/AmazonWebScraperDataset.csv')\n",
    "\n",
    "print(df)"
   ]
  },
  {
   "cell_type": "code",
   "execution_count": 72,
   "metadata": {},
   "outputs": [],
   "source": [
    "#Now we are appending data to the csv\n",
    "\n",
    "with open('./Downloads/AmazonWebScraperDataset.csv', 'a+', newline='', encoding='UTF8') as f:\n",
    "    writer = csv.writer(f)\n",
    "    writer.writerow(data)"
   ]
  },
  {
   "cell_type": "code",
   "execution_count": 96,
   "metadata": {},
   "outputs": [],
   "source": [
    "import requests\n",
    "from bs4 import BeautifulSoup\n",
    "import datetime\n",
    "import csv\n",
    "import os\n",
    "import time\n",
    "\n",
    "def check_price():\n",
    "    URL = 'https://www.amazon.com/Handheld-Car-Mini-Vacuum-Cleaner/dp/B06ZY896ZM/ref=sr_1_1_sspa?crid=G08KJ26I3E90&dib=eyJ2IjoiMSJ9.QYKDy_RFOZne1JQ2yN-MHraydfzAdAIDofa4AJJM2NQqxyjbrngDia6FoWcKD-hhGWlZMTTakkkEtiB-YRZGUxfraJFxMXzLASLYyTmpk76HPj5_c1OVI4pXzBR34cRrv2WQP8XdYuBb2ZUyYaddUDUdHh2xU4fjuF3eV_1gfXIS4rviLmlYVPncXpSQnfChoQ4cuzj15o6hb2r-xxhRLn7V-RQmXxjZQfZAfkcs5UxeT7h_-A43u918HymJBvWEb6BS3Ldul7bTUJQisWClwZCyfDeDzu-Y2uj-6G7jNXc.Xn0DCeJFEuC68a6TS8ufuFBWwt7PbYbC_w8cqY-mVJk&dib_tag=se&keywords=car+vacuum+cleaner&qid=1720819795&s=automotive&sprefix=%2Cautomotive%2C1282&sr=1-1-spons&sp_csd=d2lkZ2V0TmFtZT1zcF9hdGY&psc=1&smid=A3ALWHH9BSMOXV'\n",
    "\n",
    "    headers = {\n",
    "        \"User-Agent\": \"Mozilla/5.0 (Windows NT 10.0; Win64; x64) AppleWebKit/537.36 (KHTML, like Gecko) Chrome/78.0.3904.108 Safari/537.36\", \n",
    "        \"Accept-Encoding\": \"gzip, deflate\", \n",
    "        \"Accept\": \"text/html,application/xhtml+xml,application/xml;q=0.9,*/*;q=0.8\", \n",
    "        \"DNT\": \"1\", \n",
    "        \"Connection\": \"close\", \n",
    "        \"Upgrade-Insecure-Requests\": \"1\"\n",
    "    }\n",
    "\n",
    "    page = requests.get(URL, headers=headers)\n",
    "    soup = BeautifulSoup(page.content, \"html.parser\")\n",
    "\n",
    "    title = soup.find(id='productTitle').get_text().strip()\n",
    "\n",
    "    # Try multiple price selectors\n",
    "    price_whole = soup.find('span', {'class': 'a-price-whole'})\n",
    "    price_fraction = soup.find('span', {'class': 'a-price-fraction'})\n",
    "\n",
    "    if price_whole and price_fraction:\n",
    "        price = f\"{price_whole.get_text().strip()}{price_fraction.get_text().strip()}\"\n",
    "    else:\n",
    "        price = \"Price not found\"\n",
    "\n",
    "    today = datetime.date.today()\n",
    "    \n",
    "    header = ['Title', 'Price', 'Date']\n",
    "    data = [title, price, today]\n",
    "\n",
    "    file_exists = os.path.isfile('./Downloads/AmazonWebScraperDataset.csv')\n",
    "\n",
    "    with open('./Downloads/AmazonWebScraperDataset.csv', 'a+', newline='', encoding='UTF8') as f:\n",
    "        writer = csv.writer(f)\n",
    "        if not file_exists:\n",
    "            writer.writerow(header)  # Write the header only if the file doesn't exist\n",
    "        writer.writerow(data)\n",
    "        \n",
    "check_price()\n",
    "\n",
    "# # Runs check_price after a set time and inputs data into your CSV\n",
    "# while True:\n",
    "#     check_price()\n",
    "#     time.sleep(86400)  # Sleep for 24 hours\n"
   ]
  },
  {
   "cell_type": "code",
   "execution_count": 83,
   "metadata": {},
   "outputs": [],
   "source": [
    "# Send email when price drops from a specific threshold\n",
    "\n",
    "import pandas as pd\n",
    "import smtplib\n",
    "\n",
    "df = pd.read_csv(r'./Downloads/AmazonWebScraperDataset.csv')\n",
    "\n",
    "def send_mail():\n",
    "    server = smtplib.SMTP_SSL('smtp.gmail.com', 465)\n",
    "    server.ehlo()\n",
    "    server.login('erfan_seifi@yahoo.com', 'xxxxxxxxxxxxxx')\n",
    "    \n",
    "    subject = \"The Shirt you want is below $15! Now is your chance to buy!\"\n",
    "    body = \"Erfan, This is the moment we have been waiting for. Now is your chance to pick up the shirt of your dreams. Don't mess it up! Link here: https://www.amazon.com/Funny-Data-Systems-Business-Analyst/dp/B07FNW9FGJ/ref=sr_1_3?dchild=1&keywords=data+analyst+tshirt&qid=1626655184&sr=8-3\"\n",
    "   \n",
    "    msg = f\"Subject: {subject}\\n\\n{body}\"\n",
    "    \n",
    "    server.sendmail(\n",
    "        'erfan_seifi@yahoo.com',  # Sender email address\n",
    "        'erfan.seifi.academic@gmail.com',  # Receiver email address\n",
    "        msg\n",
    "    )\n",
    "    server.quit()\n",
    "\n",
    "\n",
    "# send_mail()\n"
   ]
  },
  {
   "cell_type": "code",
   "execution_count": null,
   "metadata": {},
   "outputs": [],
   "source": []
  }
 ],
 "metadata": {
  "kernelspec": {
   "display_name": "Python 3.9.7 ('base')",
   "language": "python",
   "name": "python3"
  },
  "language_info": {
   "codemirror_mode": {
    "name": "ipython",
    "version": 3
   },
   "file_extension": ".py",
   "mimetype": "text/x-python",
   "name": "python",
   "nbconvert_exporter": "python",
   "pygments_lexer": "ipython3",
   "version": "3.9.7"
  },
  "orig_nbformat": 4,
  "vscode": {
   "interpreter": {
    "hash": "f08e49717b89637f45c221cc312824aad954e4787a708f9902b4c6d1f314e1de"
   }
  }
 },
 "nbformat": 4,
 "nbformat_minor": 2
}
